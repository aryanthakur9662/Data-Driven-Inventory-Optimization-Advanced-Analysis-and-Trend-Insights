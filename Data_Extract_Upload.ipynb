{
 "cells": [
  {
   "cell_type": "code",
   "execution_count": 1,
   "id": "6e69e118-12ac-4b41-bf92-377935553980",
   "metadata": {},
   "outputs": [],
   "source": [
    "import sys"
   ]
  },
  {
   "cell_type": "code",
   "execution_count": 2,
   "id": "1a784a39-2efb-481b-81fd-37f3a78af889",
   "metadata": {},
   "outputs": [],
   "source": [
    "import pandas\n",
    "import requests\n",
    "import comtradeapicall"
   ]
  },
  {
   "cell_type": "code",
   "execution_count": 3,
   "id": "cf612feb-253c-49a2-bb6b-daa2e5ddbd01",
   "metadata": {},
   "outputs": [],
   "source": [
    "from datetime import date\n",
    "from datetime import timedelta\n",
    "today = date.today()\n",
    "yesterday = today - timedelta(days=1)\n",
    "lastweek = today - timedelta(days=7)"
   ]
  },
  {
   "cell_type": "code",
   "execution_count": 6,
   "id": "dbba6e6e-f3f2-4f6d-ab78-bf5d461ae7ca",
   "metadata": {},
   "outputs": [],
   "source": [
    "mydf = comtradeapicall.previewFinalData(typeCode='C', freqCode='M', clCode='HS', period='202301',\n",
    "                                        reporterCode='579', cmdCode='2710', flowCode='X', partnerCode=699,\n",
    "                                        partner2Code=699,\n",
    "                                        customsCode=None, motCode=0, maxRecords=500, format_output='JSON',\n",
    "                                        aggregateBy=None, breakdownMode='plus', countOnly=None, includeDesc=True)"
   ]
  },
  {
   "cell_type": "code",
   "execution_count": 17,
   "id": "12e2fab8-7741-4614-a4ba-e7cd52bdc9d1",
   "metadata": {},
   "outputs": [],
   "source": [
    "import psycopg2\n",
    "from psycopg2 import Error\n",
    "dbname = \"postgres\"\n",
    "user = \"postgres\"\n",
    "password = \"Major\"\n",
    "host = \"localhost\"\n",
    "port = \"5432\""
   ]
  },
  {
   "cell_type": "code",
   "execution_count": 18,
   "id": "48119ae4-6d87-4bee-be9c-c08292d8f634",
   "metadata": {},
   "outputs": [
    {
     "name": "stdout",
     "output_type": "stream",
     "text": [
      "{'user': 'postgres', 'channel_binding': 'prefer', 'dbname': 'postgres', 'host': 'localhost', 'port': '5432', 'options': '', 'sslmode': 'prefer', 'sslcompression': '0', 'sslcertmode': 'allow', 'sslsni': '1', 'ssl_min_protocol_version': 'TLSv1.2', 'gssencmode': 'prefer', 'krbsrvname': 'postgres', 'gssdelegation': '0', 'target_session_attrs': 'any', 'load_balance_hosts': 'disable'} \n",
      "\n",
      "You are connected to -  ('PostgreSQL 16.2 (Postgres.app) on aarch64-apple-darwin21.6.0, compiled by Apple clang version 14.0.0 (clang-1400.0.29.102), 64-bit',) \n",
      "\n"
     ]
    }
   ],
   "source": [
    "try:\n",
    "    connection = psycopg2.connect(\n",
    "        dbname=dbname,\n",
    "        user=user,\n",
    "        password=password,\n",
    "        host=host,\n",
    "        port=port\n",
    "    )\n",
    "    \n",
    "    cursor = connection.cursor()\n",
    "    \n",
    "    print(connection.get_dsn_parameters(), \"\\n\")\n",
    "\n",
    "    cursor.execute(\"SELECT version();\")\n",
    "    record = cursor.fetchone()\n",
    "    print(\"You are connected to - \", record, \"\\n\")\n",
    "\n",
    "except (Exception, Error) as error:\n",
    "    print(\"Error while connecting to PostgreSQL\", error)"
   ]
  },
  {
   "cell_type": "code",
   "execution_count": 20,
   "id": "901c0c16-af17-46a3-8959-547261fb7bc1",
   "metadata": {},
   "outputs": [
    {
     "name": "stdout",
     "output_type": "stream",
     "text": [
      "Table IMS_db created successfully in PostgreSQL\n"
     ]
    }
   ],
   "source": [
    "try:\n",
    "    create_table_query = '''\n",
    "    CREATE TABLE IMS_db (RefPeriodId INT, RefYear INT, RefMonth INT, Period INT, ReporterCode INT, ReporterISO VARCHAR(3), ReporterDesc VARCHAR(255), FlowDesc VARCHAR(50), PartnerCode INT, PartnerISO VARCHAR(3), PartnerDesc VARCHAR(255), CmdCode INT, CmdDesc VARCHAR(255), QtyUnitAbbr VARCHAR(10), Qty NUMERIC, NetWgt NUMERIC, PrimaryValue NUMERIC\n",
    "    );\n",
    "    '''\n",
    "    cursor.execute(create_table_query)\n",
    "    connection.commit()\n",
    "    print(\"Table IMS_db created successfully in PostgreSQL\")\n",
    "\n",
    "except (Exception, Error) as error:\n",
    "    print(\"Error while creating PostgreSQL table\", error)\n"
   ]
  },
  {
   "cell_type": "code",
   "execution_count": 21,
   "id": "5c1fd94e-2ab9-4e39-9e97-c8b3b2786e32",
   "metadata": {},
   "outputs": [
    {
     "name": "stdout",
     "output_type": "stream",
     "text": [
      "Data inserted successfully into PostgreSQL\n",
      "PostgreSQL connection is closed\n"
     ]
    }
   ],
   "source": [
    "try:\n",
    "    records = df.values.tolist()\n",
    "    insert_query = \"INSERT INTO IMS_db VALUES (%s, %s, %s, %s, %s, %s, %s, %s, %s, %s, %s, %s, %s, %s, %s, %s, %s)\"\n",
    "\n",
    "    cursor.executemany(insert_query, records)\n",
    "    connection.commit()\n",
    "    print(\"Data inserted successfully into PostgreSQL\")\n",
    "\n",
    "except (Exception, Error) as error:\n",
    "    print(\"Error while inserting data into PostgreSQL\", error)\n",
    "\n",
    "finally:\n",
    "    if connection:\n",
    "        cursor.close()\n",
    "        connection.close()\n",
    "        print(\"PostgreSQL connection is closed\")"
   ]
  },
  {
   "cell_type": "code",
   "execution_count": null,
   "id": "7b59abb0-3457-41fa-8474-ada22efe2379",
   "metadata": {},
   "outputs": [],
   "source": []
  }
 ],
 "metadata": {
  "kernelspec": {
   "display_name": "Python 3 (ipykernel)",
   "language": "python",
   "name": "python3"
  },
  "language_info": {
   "codemirror_mode": {
    "name": "ipython",
    "version": 3
   },
   "file_extension": ".py",
   "mimetype": "text/x-python",
   "name": "python",
   "nbconvert_exporter": "python",
   "pygments_lexer": "ipython3",
   "version": "3.9.6"
  }
 },
 "nbformat": 4,
 "nbformat_minor": 5
}
